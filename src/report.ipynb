{
 "cells": [
  {
   "cell_type": "markdown",
   "metadata": {},
   "source": [
    "# Algorithmic Economics - HW 3\n",
    "#### Kacper Szczepański, Jakub Józefowicz\n",
    "\n",
    "Let's install the required libraries first"
   ]
  },
  {
   "cell_type": "code",
   "execution_count": 1,
   "metadata": {},
   "outputs": [
    {
     "name": "stdout",
     "output_type": "stream",
     "text": [
      "Requirement already satisfied: numpy in /home/jakub/.pyenv/versions/scientific/lib/python3.11/site-packages (1.26.2)\n",
      "Requirement already satisfied: seaborn in /home/jakub/.pyenv/versions/scientific/lib/python3.11/site-packages (0.13.2)\n",
      "Requirement already satisfied: pandas in /home/jakub/.pyenv/versions/scientific/lib/python3.11/site-packages (2.1.3)\n",
      "Requirement already satisfied: matplotlib!=3.6.1,>=3.4 in /home/jakub/.pyenv/versions/scientific/lib/python3.11/site-packages (from seaborn) (3.8.2)\n",
      "Requirement already satisfied: python-dateutil>=2.8.2 in /home/jakub/.pyenv/versions/scientific/lib/python3.11/site-packages (from pandas) (2.8.2)\n",
      "Requirement already satisfied: pytz>=2020.1 in /home/jakub/.pyenv/versions/scientific/lib/python3.11/site-packages (from pandas) (2023.3.post1)\n",
      "Requirement already satisfied: tzdata>=2022.1 in /home/jakub/.pyenv/versions/scientific/lib/python3.11/site-packages (from pandas) (2023.3)\n",
      "Requirement already satisfied: contourpy>=1.0.1 in /home/jakub/.pyenv/versions/scientific/lib/python3.11/site-packages (from matplotlib!=3.6.1,>=3.4->seaborn) (1.2.0)\n",
      "Requirement already satisfied: cycler>=0.10 in /home/jakub/.pyenv/versions/scientific/lib/python3.11/site-packages (from matplotlib!=3.6.1,>=3.4->seaborn) (0.12.1)\n",
      "Requirement already satisfied: fonttools>=4.22.0 in /home/jakub/.pyenv/versions/scientific/lib/python3.11/site-packages (from matplotlib!=3.6.1,>=3.4->seaborn) (4.47.0)\n",
      "Requirement already satisfied: kiwisolver>=1.3.1 in /home/jakub/.pyenv/versions/scientific/lib/python3.11/site-packages (from matplotlib!=3.6.1,>=3.4->seaborn) (1.4.5)\n",
      "Requirement already satisfied: packaging>=20.0 in /home/jakub/.pyenv/versions/scientific/lib/python3.11/site-packages (from matplotlib!=3.6.1,>=3.4->seaborn) (23.2)\n",
      "Requirement already satisfied: pillow>=8 in /home/jakub/.pyenv/versions/scientific/lib/python3.11/site-packages (from matplotlib!=3.6.1,>=3.4->seaborn) (10.2.0)\n",
      "Requirement already satisfied: pyparsing>=2.3.1 in /home/jakub/.pyenv/versions/scientific/lib/python3.11/site-packages (from matplotlib!=3.6.1,>=3.4->seaborn) (3.1.1)\n",
      "Requirement already satisfied: six>=1.5 in /home/jakub/.pyenv/versions/scientific/lib/python3.11/site-packages (from python-dateutil>=2.8.2->pandas) (1.16.0)\n",
      "\n",
      "\u001b[1m[\u001b[0m\u001b[34;49mnotice\u001b[0m\u001b[1;39;49m]\u001b[0m\u001b[39;49m A new release of pip is available: \u001b[0m\u001b[31;49m23.3.1\u001b[0m\u001b[39;49m -> \u001b[0m\u001b[32;49m24.0\u001b[0m\n",
      "\u001b[1m[\u001b[0m\u001b[34;49mnotice\u001b[0m\u001b[1;39;49m]\u001b[0m\u001b[39;49m To update, run: \u001b[0m\u001b[32;49mpip install --upgrade pip\u001b[0m\n"
     ]
    }
   ],
   "source": [
    "! pip install numpy seaborn pandas"
   ]
  },
  {
   "cell_type": "markdown",
   "metadata": {},
   "source": [
    "We define the player and battlefield representation:"
   ]
  },
  {
   "cell_type": "code",
   "execution_count": 3,
   "metadata": {},
   "outputs": [],
   "source": [
    "from dataclasses import dataclass\n",
    "from typing import List\n",
    "import numpy as np\n",
    "\n",
    "# battlefield can just be a list of ints\n",
    "\n",
    "@dataclass\n",
    "class Player:\n",
    "    num_resources: int\n",
    "    strategy: np.ndarray"
   ]
  },
  {
   "cell_type": "markdown",
   "metadata": {},
   "source": [
    "The best response functions, which although similar are not exactly symmetrical because of how draws are handled."
   ]
  },
  {
   "cell_type": "code",
   "execution_count": 4,
   "metadata": {},
   "outputs": [],
   "source": [
    "# this is equivalent to finding k'th (k = num_resources) largest element and then all larger so O(n) instead of O(nlog(n))\n",
    "def bestPureResponseAtt(att_player, def_player, battlefields):\n",
    "    num_resources = att_player.num_resources\n",
    "    def_strat = def_player.strategy\n",
    "    utils = (1.0-def_strat) * battlefields\n",
    "    util_idxs = np.argpartition(utils, -num_resources) \n",
    "    res = np.zeros_like(def_strat)\n",
    "    res[util_idxs[-num_resources:]] = 1.0\n",
    "    return res\n",
    "\n",
    "# this is equivalent to finding k'th (k = num_resources) largest element and then all larger so O(n) instead of O(nlog(n))\n",
    "def bestPureResponseDef(att_player, def_player, battlefields):\n",
    "    num_resources = def_player.num_resources\n",
    "    att_strat = att_player.strategy\n",
    "    utils = att_strat * battlefields\n",
    "    util_idxs = np.argpartition(utils, -num_resources)\n",
    "    res = np.zeros_like(att_strat)\n",
    "    res[util_idxs[-num_resources:]] = 1.0\n",
    "    return res"
   ]
  },
  {
   "cell_type": "markdown",
   "metadata": {},
   "source": [
    "We also have to implement a calculation of $\\epsilon$, this is bounded from the bottom by the difference in paysoff between the players when reacting with any of their best responses against the opponent's mixed strategy.\n",
    "\n",
    "Let $S$ be the set of pure strategies available to a given player, then:\n",
    "$$\n",
    "todo\n",
    "$$\n",
    "\n",
    "5 3 4\n",
    "2 2 2 2 0"
   ]
  },
  {
   "cell_type": "code",
   "execution_count": 5,
   "metadata": {},
   "outputs": [],
   "source": [
    "def getEpsilon(\n",
    "    att_player, def_player, battlefields, best_resp_att=None, best_resp_def=None\n",
    "):\n",
    "    att_strat = att_player.strategy\n",
    "    def_strat = def_player.strategy\n",
    "    if best_resp_att is None:\n",
    "        best_resp_att = bestPureResponseAtt(att_player, def_player, battlefields)\n",
    "    if best_resp_def is None:\n",
    "        best_resp_def = bestPureResponseDef(att_player, def_player, battlefields)\n",
    "    pay_att = np.sum(best_resp_att * battlefields * (1 - def_strat))\n",
    "    pay_def = np.sum((1 - best_resp_def) * battlefields * att_strat)\n",
    "\n",
    "    return abs(pay_att - pay_def)"
   ]
  },
  {
   "cell_type": "markdown",
   "metadata": {},
   "source": [
    "We are now able to implement ficticious play."
   ]
  },
  {
   "cell_type": "code",
   "execution_count": 6,
   "metadata": {},
   "outputs": [],
   "source": [
    "def ficticiousPlay(  # todo intial conditions player\n",
    "    battlefields, num_res_att, num_res_def, epsilon=0.001, max_iters=1_000_000\n",
    "):\n",
    "    assert num_res_att > 0 and num_res_att < len(battlefields)\n",
    "    assert num_res_def > 0 and num_res_def < len(battlefields)\n",
    "    assert num_res_att < num_res_def\n",
    "    #battlefields = np.array(battlefields, dtype=np.double)\n",
    "    num_battlefields = battlefields.shape[0]\n",
    "    att_play = Player(num_res_att, np.array([num_res_att/num_battlefields] * num_battlefields, dtype=np.double)) # good default init\n",
    "    def_play = Player(num_res_def, np.array([num_res_def/num_battlefields] * num_battlefields, dtype=np.double)) # good default init\n",
    "    epsilons = []\n",
    "    for t in range(1, max_iters + 1):\n",
    "        resp_att = bestPureResponseAtt(att_play, def_play, battlefields)\n",
    "        resp_def = bestPureResponseDef(att_play, def_play, battlefields)\n",
    "        err = getEpsilon(att_play, def_play, battlefields, resp_att, resp_def)\n",
    "        epsilons.append(err)\n",
    "        if err <= epsilon:\n",
    "            break\n",
    "        for i, (cur, new) in enumerate(zip(att_play.strategy, resp_att)):\n",
    "            att_play.strategy[i] = (cur * (t - 1) + new) / t\n",
    "        for i, (cur, new) in enumerate(zip(def_play.strategy, resp_def)):\n",
    "            def_play.strategy[i] = (cur * (t - 1) + new) / t\n",
    "\n",
    "    return att_play.strategy, def_play.strategy, np.array(epsilons) # len(epsilons) gives us the number of iterations the algorithm ran for"
   ]
  },
  {
   "cell_type": "markdown",
   "metadata": {},
   "source": [
    "Let's generate some nice variety for the input analysis, we will consider games with 10, 20, 30, 40 and 50 battlefields for each we will check situations where the attacker and defender have a low(< ~15%), medium (~40-60%) or high number(>~85%) or resources in comparison to the number of battlefields"
   ]
  },
  {
   "cell_type": "code",
   "execution_count": 8,
   "metadata": {},
   "outputs": [],
   "source": [
    "import random as r\n",
    "import pandas as pd\n",
    "import math\n",
    "\n",
    "r.seed(42)\n",
    "input_ranges = [\"low\", \"mid\", \"high\"]\n",
    "field_sizes = [10 * i for i in range(1, 6)]\n",
    "range_divisors = [(field_sizes[-1], 1 / 0.15), (1 / 0.4, 1 / 0.6), (1 / 0.85, 1)]\n",
    "num_samples = 100\n",
    "input_params = []\n",
    "column_names = [\"field_size\", \"tokens_att\", \"tokens_def\", \"range_att\", \"range_def\"]\n",
    "\n",
    "for field_size in field_sizes:\n",
    "    for att_range in range(len(input_ranges)):\n",
    "        for def_range in range(att_range, len(input_ranges)):\n",
    "            for _ in range(num_samples):\n",
    "                min_att = math.ceil(field_size / range_divisors[att_range][0])\n",
    "                min_att = min(field_size - 2, min_att)\n",
    "                max_att = math.floor(field_size / range_divisors[att_range][1])\n",
    "                max_att = max(min_att + 1, max_att)\n",
    "                max_att = min(max_att, field_size - 1)\n",
    "                assert min_att < max_att\n",
    "                tokens_att = r.randrange(min_att, max_att)\n",
    "                min_def = math.ceil(field_size / range_divisors[def_range][0])\n",
    "                min_def = max(tokens_att + 1, min_def)\n",
    "                max_def = math.floor(field_size / range_divisors[att_range][1])\n",
    "                max_def = max(min_def + 1, max_def)\n",
    "                tokens_def = r.randrange(min_def, max_def)\n",
    "                assert tokens_att < tokens_def\n",
    "                assert tokens_def < field_size\n",
    "                input_params.append(\n",
    "                    (\n",
    "                        field_size,\n",
    "                        tokens_att,\n",
    "                        tokens_def,\n",
    "                        input_ranges[att_range],\n",
    "                        input_ranges[def_range],\n",
    "                    )\n",
    "                )\n",
    "\n",
    "battlefields_arr = np.random.randint(\n",
    "    2,\n",
    "    6,\n",
    "    size=(\n",
    "        len(field_sizes)* len(input_ranges) * (len(input_ranges) + 1) // 2 * num_samples,\n",
    "        field_sizes[-1]\n",
    "    ),\n",
    ").astype(np.double)\n",
    "assert(battlefields_arr.shape[0] == len(input_params))\n",
    "# make sure each battlefield value occurs at least once\n",
    "battlefields_arr[...,0] = 2.0\n",
    "battlefields_arr[...,1] = 3.0\n",
    "battlefields_arr[...,2] = 4.0\n",
    "battlefields_arr[...,3] = 5.0\n",
    "\n",
    "\n"
   ]
  },
  {
   "cell_type": "markdown",
   "metadata": {},
   "source": [
    "And let's simulate everythign for later analysis"
   ]
  },
  {
   "cell_type": "code",
   "execution_count": 9,
   "metadata": {},
   "outputs": [
    {
     "name": "stdout",
     "output_type": "stream",
     "text": [
      "done 0, starting or continuing sizes 10\n"
     ]
    },
    {
     "ename": "KeyboardInterrupt",
     "evalue": "",
     "output_type": "error",
     "traceback": [
      "\u001b[0;31m---------------------------------------------------------------------------\u001b[0m",
      "\u001b[0;31mKeyboardInterrupt\u001b[0m                         Traceback (most recent call last)",
      "Cell \u001b[0;32mIn[9], line 9\u001b[0m\n\u001b[1;32m      7\u001b[0m \u001b[38;5;28;01mif\u001b[39;00m i \u001b[38;5;241m%\u001b[39m \u001b[38;5;241m100\u001b[39m \u001b[38;5;241m==\u001b[39m \u001b[38;5;241m0\u001b[39m:\n\u001b[1;32m      8\u001b[0m     \u001b[38;5;28mprint\u001b[39m(\u001b[38;5;124mf\u001b[39m\u001b[38;5;124m\"\u001b[39m\u001b[38;5;124mdone \u001b[39m\u001b[38;5;132;01m{\u001b[39;00mi\u001b[38;5;132;01m}\u001b[39;00m\u001b[38;5;124m, starting or continuing sizes \u001b[39m\u001b[38;5;132;01m{\u001b[39;00mfs\u001b[38;5;132;01m}\u001b[39;00m\u001b[38;5;124m\"\u001b[39m, flush\u001b[38;5;241m=\u001b[39m\u001b[38;5;28;01mTrue\u001b[39;00m)\n\u001b[0;32m----> 9\u001b[0m attack_strat, defend_strat, epsilon \u001b[38;5;241m=\u001b[39m \u001b[43mficticiousPlay\u001b[49m\u001b[43m(\u001b[49m\u001b[43mbattlefields_arr\u001b[49m\u001b[43m[\u001b[49m\u001b[43mi\u001b[49m\u001b[43m,\u001b[49m\u001b[43m \u001b[49m\u001b[43m:\u001b[49m\u001b[43mfs\u001b[49m\u001b[43m]\u001b[49m\u001b[43m,\u001b[49m\u001b[43m \u001b[49m\u001b[43mta\u001b[49m\u001b[43m,\u001b[49m\u001b[43m \u001b[49m\u001b[43mtd\u001b[49m\u001b[43m,\u001b[49m\u001b[43m \u001b[49m\u001b[43mmax_iters\u001b[49m\u001b[38;5;241;43m=\u001b[39;49m\u001b[43mmax_iters\u001b[49m\u001b[43m,\u001b[49m\u001b[43m \u001b[49m\u001b[43mepsilon\u001b[49m\u001b[38;5;241;43m=\u001b[39;49m\u001b[38;5;241;43m0.0\u001b[39;49m\u001b[43m)\u001b[49m\n\u001b[1;32m     10\u001b[0m attack_strats\u001b[38;5;241m.\u001b[39mappend(attack_strat)\n\u001b[1;32m     11\u001b[0m defend_strats\u001b[38;5;241m.\u001b[39mappend(defend_strat)\n",
      "Cell \u001b[0;32mIn[6], line 21\u001b[0m, in \u001b[0;36mficticiousPlay\u001b[0;34m(battlefields, num_res_att, num_res_def, epsilon, max_iters)\u001b[0m\n\u001b[1;32m     19\u001b[0m     \u001b[38;5;28;01mfor\u001b[39;00m i, (cur, new) \u001b[38;5;129;01min\u001b[39;00m \u001b[38;5;28menumerate\u001b[39m(\u001b[38;5;28mzip\u001b[39m(att_play\u001b[38;5;241m.\u001b[39mstrategy, resp_att)):\n\u001b[1;32m     20\u001b[0m         att_play\u001b[38;5;241m.\u001b[39mstrategy[i] \u001b[38;5;241m=\u001b[39m (cur \u001b[38;5;241m*\u001b[39m (t \u001b[38;5;241m-\u001b[39m \u001b[38;5;241m1\u001b[39m) \u001b[38;5;241m+\u001b[39m new) \u001b[38;5;241m/\u001b[39m t\n\u001b[0;32m---> 21\u001b[0m     \u001b[38;5;28;01mfor\u001b[39;00m i, (cur, new) \u001b[38;5;129;01min\u001b[39;00m \u001b[38;5;28menumerate\u001b[39m(\u001b[38;5;28mzip\u001b[39m(def_play\u001b[38;5;241m.\u001b[39mstrategy, resp_def)):\n\u001b[1;32m     22\u001b[0m         def_play\u001b[38;5;241m.\u001b[39mstrategy[i] \u001b[38;5;241m=\u001b[39m (cur \u001b[38;5;241m*\u001b[39m (t \u001b[38;5;241m-\u001b[39m \u001b[38;5;241m1\u001b[39m) \u001b[38;5;241m+\u001b[39m new) \u001b[38;5;241m/\u001b[39m t\n\u001b[1;32m     24\u001b[0m \u001b[38;5;28;01mreturn\u001b[39;00m att_play\u001b[38;5;241m.\u001b[39mstrategy, def_play\u001b[38;5;241m.\u001b[39mstrategy, np\u001b[38;5;241m.\u001b[39marray(epsilons)\n",
      "\u001b[0;31mKeyboardInterrupt\u001b[0m: "
     ]
    }
   ],
   "source": [
    "max_iters = 10_000\n",
    "#epsilons = np.zeros((len(input_params), max_iters), dtype=np.double)\n",
    "epsilons = []\n",
    "attack_strats = []\n",
    "defend_strats = []\n",
    "for i, (fs, ta, td, ra, rd) in enumerate(input_params):\n",
    "    if i % 100 == 0:\n",
    "        print(f\"done {i}, starting or continuing sizes {fs}\", flush=True)\n",
    "    attack_strat, defend_strat, epsilon = ficticiousPlay(battlefields_arr[i, :fs], ta, td, max_iters=max_iters, epsilon=0.0)\n",
    "    attack_strats.append(attack_strat)\n",
    "    defend_strats.append(defend_strat)\n",
    "    epsilons.append(epsilon)"
   ]
  },
  {
   "cell_type": "code",
   "execution_count": 19,
   "metadata": {},
   "outputs": [],
   "source": [
    "epsilons_stacked = np.stack(epsilons)\n",
    "attack_strats_padded = []\n",
    "for strat in attack_strats:\n",
    "    attack_strats_padded.append(np.pad(strat, (0, field_sizes[-1] - strat.shape[0])))\n",
    "attack_strats_stacked = np.stack(attack_strats_padded)\n",
    "defend_strats_padded = []\n",
    "for strat in defend_strats:\n",
    "    defend_strats_padded.append(np.pad(strat, (0, field_sizes[-1] - strat.shape[0])))\n",
    "defend_strats_stacked = np.stack(defend_strats_padded)"
   ]
  },
  {
   "cell_type": "code",
   "execution_count": 22,
   "metadata": {},
   "outputs": [],
   "source": [
    "np.save('epsilons', epsilons_stacked)\n",
    "np.save('attack_strats', attack_strats_stacked)\n",
    "np.save('defend_strats', defend_strats_stacked)"
   ]
  },
  {
   "cell_type": "code",
   "execution_count": 23,
   "metadata": {},
   "outputs": [],
   "source": [
    "import pickle\n",
    "with open(\"input_params.pkl\", 'wb') as f:\n",
    "    pickle.dump(input_params, f)"
   ]
  },
  {
   "cell_type": "code",
   "execution_count": 30,
   "metadata": {},
   "outputs": [
    {
     "name": "stdout",
     "output_type": "stream",
     "text": [
      "         epsilon  timestep  field_size  tokens_att  tokens_def range_att  \\\n",
      "0       1.500000         0          10           1           2       low   \n",
      "1       0.600000       100          10           1           2       low   \n",
      "2       0.440000       200          10           1           2       low   \n",
      "3       0.336667       300          10           1           2       low   \n",
      "4       0.305000       400          10           1           2       low   \n",
      "...          ...       ...         ...         ...         ...       ...   \n",
      "299995  0.029579      9500          50          46          47      high   \n",
      "299996  0.029271      9600          50          46          47      high   \n",
      "299997  0.028969      9700          50          46          47      high   \n",
      "299998  0.028673      9800          50          46          47      high   \n",
      "299999  0.028384      9900          50          46          47      high   \n",
      "\n",
      "       range_def  \n",
      "0            low  \n",
      "1            low  \n",
      "2            low  \n",
      "3            low  \n",
      "4            low  \n",
      "...          ...  \n",
      "299995      high  \n",
      "299996      high  \n",
      "299997      high  \n",
      "299998      high  \n",
      "299999      high  \n",
      "\n",
      "[300000 rows x 7 columns]\n"
     ]
    }
   ],
   "source": [
    "import seaborn as sns\n",
    "import pandas as pd\n",
    "\n",
    "column_names = [\"epsilon\", \"timestep\", \"field_size\", \"tokens_att\", \"tokens_def\", \"range_att\", \"range_def\"]\n",
    "df = pd.DataFrame([(epsilons_stacked[i,j] , j, fs, ta, td, ra, rd) for i, (fs, ta, td, ra, rd) in enumerate(input_params) for j in range(0, max_iters, 100)], columns=column_names)\n",
    "\n",
    "print(df)\n"
   ]
  },
  {
   "cell_type": "markdown",
   "metadata": {},
   "source": [
    "As we can observe have a decay of $t^{1/f(field_size)}$ "
   ]
  },
  {
   "cell_type": "code",
   "execution_count": 34,
   "metadata": {},
   "outputs": [
    {
     "data": {
      "text/plain": [
       "<Axes: xlabel='timestep', ylabel='epsilon'>"
      ]
     },
     "execution_count": 34,
     "metadata": {},
     "output_type": "execute_result"
    },
    {
     "data": {
      "image/png": "[encoded data removed]",
      "text/plain": [
       "<Figure size 640x480 with 1 Axes>"
      ]
     },
     "metadata": {},
     "output_type": "display_data"
    }
   ],
   "source": [
    "sns.set_theme(style=\"darkgrid\")\n",
    "\n",
    "\n",
    "# Plot the responses for different events and regions\n",
    "sns.lineplot(x=\"timestep\", y=\"epsilon\", hue=\"field_size\", data=df, palette=\"bright\")"
   ]
  },
  {
   "cell_type": "code",
   "execution_count": 18,
   "metadata": {},
   "outputs": [],
   "source": [
    "import time\n",
    "import numpy as np\n",
    "runtimes = []\n",
    "for f_size in range(10,200,10):\n",
    "    field = np.random.randint(2,6,f_size)\n",
    "    start = time.time()\n",
    "    ficticiousPlay(field, ta, td, max_iters=max_iters, epsilon=0.0)\n",
    "    end = time.time()\n",
    "    runtimes.append((f_size, end-start))"
   ]
  },
  {
   "cell_type": "markdown",
   "metadata": {},
   "source": [
    "# question 2.2 \n",
    "\n",
    "We can observe that the grwoth is linear"
   ]
  },
  {
   "cell_type": "code",
   "execution_count": 19,
   "metadata": {},
   "outputs": [
    {
     "name": "stderr",
     "output_type": "stream",
     "text": [
      "/tmp/ipykernel_1190329/2524152520.py:5: UserWarning: Ignoring `palette` because no `hue` variable has been assigned.\n",
      "  sns.lineplot(x = 'num_fields', y='time', data=df_times, palette=\"bright\")\n"
     ]
    },
    {
     "data": {
      "text/plain": [
       "<Axes: xlabel='num_fields', ylabel='time'>"
      ]
     },
     "execution_count": 19,
     "metadata": {},
     "output_type": "execute_result"
    },
    {
     "data": {
      "image/png": "[encoded data removed]",
      "text/plain": [
       "<Figure size 640x480 with 1 Axes>"
      ]
     },
     "metadata": {},
     "output_type": "display_data"
    }
   ],
   "source": [
    "import seaborn as sns\n",
    "\n",
    "df_times = pd.DataFrame(runtimes, columns=[\"num_fields\", \"time\"])\n",
    "\n",
    "sns.lineplot(x = 'num_fields', y='time', data=df_times, palette=\"bright\")"
   ]
  },
  {
   "cell_type": "markdown",
   "metadata": {},
   "source": [
    "# question 2.3"
   ]
  },
  {
   "cell_type": "markdown",
   "metadata": {},
   "source": [
    "The analysis of the achieved approximation of value of epsilon with respect to different starting strategies doesn't draw any interesting conclusions. There were 7 starting strategies checked:\n",
    "1) no starting strategy (normal Fictitious Play)\n",
    "2) uniform distributions over probabilities of which battlefield players assign a resource to\n",
    "3) attackers starts with pure strategy picking bA least valueable battlefields, while defender bD most valueable\n",
    "4) both players start with pure strategy picking bA or bD most valueable battlefields\n",
    "5) defender starts with pure strategy picking bD least valueable battlefields, while attacker splits half of resources to each least and most valueable ones\n",
    "6) attacker picks least valueable battlefield with probability 1 and distributes the rest uniformly over the rest of battlefields, defender does the same but picks most valueable battlefield\n",
    "7) both players pick least valueable battlefield with probability 1 and distribute the rest uniformly over the rest of battlefields\n",
    "\n",
    "First tests were done with 100000 rounds limit on random battlefields of size between 30 and 40 and there seemed to be no specific rule whatsoever. All approximations (in a scope of one test) with respect to starting strategy were better or worse comparing to no strategy depending on the test. There seemed to be a rule that \"no strategy\" strategy ended up with the worst approximation when difference of resources given to both players was over n / 2, but again, not for all tests.\n",
    "\n",
    "The next approach was approximating epsilon for \"no strategy\" within 100000 rounds and checking how many rounds other starting strategies require to reach it. This time the number of checked battlefields was 10 and 45. The only tendency we could observe is that for mid and high tests, which operate on number of resources from range (n/3, 2n/3) and (2n/3, n) respectively, the number of required rounds was lower - sometimes by just few hundred, but in extreme case it was by 22000."
   ]
  }
 ],
 "metadata": {
  "kernelspec": {
   "display_name": "scientific",
   "language": "python",
   "name": "python3"
  },
  "language_info": {
   "codemirror_mode": {
    "name": "ipython",
    "version": 3
   },
   "file_extension": ".py",
   "mimetype": "text/x-python",
   "name": "python",
   "nbconvert_exporter": "python",
   "pygments_lexer": "ipython3",
   "version": "3.11.8"
  }
 },
 "nbformat": 4,
 "nbformat_minor": 2
}
