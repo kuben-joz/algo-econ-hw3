{
 "cells": [
  {
   "cell_type": "markdown",
   "metadata": {},
   "source": [
    "# Algorithmic Economics - HW 3\n",
    "#### Kacper Szczepański, Jakub Józefowicz\n",
    "\n",
    "Let's install the required libraries first"
   ]
  },
  {
   "cell_type": "code",
   "execution_count": 1,
   "metadata": {},
   "outputs": [
    {
     "name": "stdout",
     "output_type": "stream",
     "text": [
      "Requirement already satisfied: numpy in /home/jakub/.pyenv/versions/scientific/lib/python3.11/site-packages (1.26.2)\n",
      "Collecting seaborn\n",
      "  Using cached seaborn-0.13.2-py3-none-any.whl.metadata (5.4 kB)\n",
      "Requirement already satisfied: pandas in /home/jakub/.pyenv/versions/scientific/lib/python3.11/site-packages (2.1.3)\n",
      "Requirement already satisfied: matplotlib!=3.6.1,>=3.4 in /home/jakub/.pyenv/versions/scientific/lib/python3.11/site-packages (from seaborn) (3.8.2)\n",
      "Requirement already satisfied: python-dateutil>=2.8.2 in /home/jakub/.pyenv/versions/scientific/lib/python3.11/site-packages (from pandas) (2.8.2)\n",
      "Requirement already satisfied: pytz>=2020.1 in /home/jakub/.pyenv/versions/scientific/lib/python3.11/site-packages (from pandas) (2023.3.post1)\n",
      "Requirement already satisfied: tzdata>=2022.1 in /home/jakub/.pyenv/versions/scientific/lib/python3.11/site-packages (from pandas) (2023.3)\n",
      "Requirement already satisfied: contourpy>=1.0.1 in /home/jakub/.pyenv/versions/scientific/lib/python3.11/site-packages (from matplotlib!=3.6.1,>=3.4->seaborn) (1.2.0)\n",
      "Requirement already satisfied: cycler>=0.10 in /home/jakub/.pyenv/versions/scientific/lib/python3.11/site-packages (from matplotlib!=3.6.1,>=3.4->seaborn) (0.12.1)\n",
      "Requirement already satisfied: fonttools>=4.22.0 in /home/jakub/.pyenv/versions/scientific/lib/python3.11/site-packages (from matplotlib!=3.6.1,>=3.4->seaborn) (4.47.0)\n",
      "Requirement already satisfied: kiwisolver>=1.3.1 in /home/jakub/.pyenv/versions/scientific/lib/python3.11/site-packages (from matplotlib!=3.6.1,>=3.4->seaborn) (1.4.5)\n",
      "Requirement already satisfied: packaging>=20.0 in /home/jakub/.pyenv/versions/scientific/lib/python3.11/site-packages (from matplotlib!=3.6.1,>=3.4->seaborn) (23.2)\n",
      "Requirement already satisfied: pillow>=8 in /home/jakub/.pyenv/versions/scientific/lib/python3.11/site-packages (from matplotlib!=3.6.1,>=3.4->seaborn) (10.2.0)\n",
      "Requirement already satisfied: pyparsing>=2.3.1 in /home/jakub/.pyenv/versions/scientific/lib/python3.11/site-packages (from matplotlib!=3.6.1,>=3.4->seaborn) (3.1.1)\n",
      "Requirement already satisfied: six>=1.5 in /home/jakub/.pyenv/versions/scientific/lib/python3.11/site-packages (from python-dateutil>=2.8.2->pandas) (1.16.0)\n",
      "Using cached seaborn-0.13.2-py3-none-any.whl (294 kB)\n",
      "Installing collected packages: seaborn\n",
      "Successfully installed seaborn-0.13.2\n",
      "\n",
      "\u001b[1m[\u001b[0m\u001b[34;49mnotice\u001b[0m\u001b[1;39;49m]\u001b[0m\u001b[39;49m A new release of pip is available: \u001b[0m\u001b[31;49m23.3.1\u001b[0m\u001b[39;49m -> \u001b[0m\u001b[32;49m24.0\u001b[0m\n",
      "\u001b[1m[\u001b[0m\u001b[34;49mnotice\u001b[0m\u001b[1;39;49m]\u001b[0m\u001b[39;49m To update, run: \u001b[0m\u001b[32;49mpip install --upgrade pip\u001b[0m\n"
     ]
    }
   ],
   "source": [
    "! pip install numpy seaborn pandas"
   ]
  },
  {
   "cell_type": "markdown",
   "metadata": {},
   "source": [
    "We define the player and battlefield representation:"
   ]
  },
  {
   "cell_type": "code",
   "execution_count": 2,
   "metadata": {},
   "outputs": [],
   "source": [
    "from dataclasses import dataclass\n",
    "from typing import List\n",
    "import numpy as np\n",
    "\n",
    "# battlefield can just be a list of ints\n",
    "\n",
    "@dataclass\n",
    "class Player:\n",
    "    num_resources: int # How many resources the player has available for allocation\n",
    "    strategy: List[float] # The players mixed strategy that will evolve"
   ]
  },
  {
   "cell_type": "markdown",
   "metadata": {},
   "source": [
    "The best response functions, which although similar are not exactly symmetrical because of how draws are handled."
   ]
  },
  {
   "cell_type": "code",
   "execution_count": 3,
   "metadata": {},
   "outputs": [],
   "source": [
    "def bestPureResponseAtt(att_player, def_player, battlefields):\n",
    "    num_resources = att_player.num_resources\n",
    "    def_strat = def_player.strategy\n",
    "    for v in def_strat:\n",
    "        assert v >= 0.0 and v <= 1.0\n",
    "    field_val = []\n",
    "    for i, (prob, util) in enumerate(zip(def_strat, battlefields, strict=True)):\n",
    "        field_val.append(((1 - prob) * util, i))\n",
    "    field_val = sorted(field_val)[-num_resources:]\n",
    "    res = [0.0] * len(def_strat)\n",
    "    for _, i in field_val:\n",
    "        res[i] = 1.0\n",
    "    return res\n",
    "\n",
    "\n",
    "def bestPureResponseDef(att_player, def_player, battlefields):\n",
    "    num_resources = def_player.num_resources\n",
    "    att_strat = att_player.strategy\n",
    "    for v in att_strat:\n",
    "        assert v >= 0.0 and v <= 1.0\n",
    "    field_val = []\n",
    "    for i, (prob, util) in enumerate(zip(att_strat, battlefields, strict=True)):\n",
    "        field_val.append((prob * util, i))\n",
    "    field_val = sorted(field_val)[-num_resources:]\n",
    "    res = [0.0] * len(att_strat)\n",
    "    for _, i in field_val:\n",
    "        res[i] = 1.0\n",
    "    return res"
   ]
  },
  {
   "cell_type": "markdown",
   "metadata": {},
   "source": [
    "We also have to implement a calculation of $\\epsilon$, this is bounded from the bottom by the difference in paysoff between the players when reacting with any of their best responses against the opponent's mixed strategy.\n",
    "\n",
    "Let $S$ be the set of pure strategies available to a given player, then:\n",
    "$$\n",
    "todo\n",
    "$$\n",
    "\n",
    "5 3 4\n",
    "2 2 2 2 0"
   ]
  },
  {
   "cell_type": "code",
   "execution_count": 4,
   "metadata": {},
   "outputs": [],
   "source": [
    "def getEpsilon(\n",
    "    att_player, def_player, battlefields, best_resp_att=None, best_resp_def=None\n",
    "):\n",
    "    att_strat = att_player.strategy\n",
    "    def_strat = def_player.strategy\n",
    "    if best_resp_att is None:\n",
    "        best_resp_att = bestPureResponseAtt(att_player, def_player, battlefields)\n",
    "    if best_resp_def is None:\n",
    "        best_resp_def = bestPureResponseDef(att_player, def_player, battlefields)\n",
    "    pay_att = 0.0\n",
    "    pay_def = 0.0\n",
    "    for i in range(n):\n",
    "        pay_att += best_resp_att[i] * battlefields[i] * (1 - def_strat[i])\n",
    "        pay_def += (1 - best_resp_def[i]) * battlefields[i] * att_strat[i]\n",
    "\n",
    "    return abs(pay_att - pay_def)"
   ]
  },
  {
   "cell_type": "markdown",
   "metadata": {},
   "source": [
    "We are now able to implement ficticious play."
   ]
  },
  {
   "cell_type": "code",
   "execution_count": 5,
   "metadata": {},
   "outputs": [],
   "source": [
    "def ficticiousPlay(  # todo intial conditions player\n",
    "    battlefields, num_res_att, num_res_def, epsilon=0.001, max_iters=1_000_000\n",
    "):\n",
    "    assert num_res_att > 0 and num_res_att < len(battlefields)\n",
    "    assert num_res_def > 0 and num_res_def < len(battlefields)\n",
    "    assert num_res_att < num_res_def\n",
    "    num_battlefields = len(battlefields)\n",
    "    att_play = Player(num_res_att, [0.0] * num_battlefields)\n",
    "    def_play = Player(num_res_def, [0.0] * num_battlefields)\n",
    "    epsilons = []\n",
    "    for t in range(1, max_iters + 1):\n",
    "        resp_att = bestPureResponseAtt(att_play, def_play, battlefields)\n",
    "        resp_def = bestPureResponseDef(att_play, def_play, battlefields)\n",
    "        err = getEpsilon(att_play, def_play, battlefields, resp_att, resp_def)\n",
    "        epsilons.append(err)\n",
    "        if err <= epsilon:\n",
    "            break\n",
    "        for i, (cur, new) in enumerate(zip(att_play.strategy, resp_att)):\n",
    "            att_play.strategy[i] = (cur * (t - 1) + new) / t\n",
    "        for i, (cur, new) in enumerate(zip(def_play.strategy, resp_def)):\n",
    "            def_play.strategy[i] = (cur * (t - 1) + new) / t\n",
    "\n",
    "    return att_play.strategy, def_play.strategy, epsilons # len(epsilons) gives us the number of iterations the algorithm ran for"
   ]
  },
  {
   "cell_type": "markdown",
   "metadata": {},
   "source": [
    "Let's generate some nice variety for the input analysis, we will consider games with 10, 100, 1000 and 10000 battlefields for each we will check situations where the attacker and defender have a low(< ~15%), medium (~40-60%) or high number(>~85%) or resources in comparison to the number of battlefields"
   ]
  },
  {
   "cell_type": "code",
   "execution_count": 13,
   "metadata": {},
   "outputs": [
    {
     "ename": "AssertionError",
     "evalue": "",
     "output_type": "error",
     "traceback": [
      "\u001b[0;31m---------------------------------------------------------------------------\u001b[0m",
      "\u001b[0;31mAssertionError\u001b[0m                            Traceback (most recent call last)",
      "Cell \u001b[0;32mIn[13], line 20\u001b[0m\n\u001b[1;32m     18\u001b[0m max_att \u001b[38;5;241m=\u001b[39m \u001b[38;5;28mmax\u001b[39m(min_att\u001b[38;5;241m+\u001b[39m\u001b[38;5;241m1\u001b[39m, max_att)\n\u001b[1;32m     19\u001b[0m max_att \u001b[38;5;241m=\u001b[39m \u001b[38;5;28mmin\u001b[39m(max_att, field_size\u001b[38;5;241m-\u001b[39m\u001b[38;5;241m2\u001b[39m)\n\u001b[0;32m---> 20\u001b[0m \u001b[38;5;28;01massert\u001b[39;00m(min_att \u001b[38;5;241m<\u001b[39m max_att)\n\u001b[1;32m     21\u001b[0m tokens_att \u001b[38;5;241m=\u001b[39m r\u001b[38;5;241m.\u001b[39mrandrange(min_att, max_att)\n\u001b[1;32m     22\u001b[0m min_def \u001b[38;5;241m=\u001b[39m math\u001b[38;5;241m.\u001b[39mceil(field_size\u001b[38;5;241m/\u001b[39mrange_divisors[def_range][\u001b[38;5;241m0\u001b[39m])\n",
      "\u001b[0;31mAssertionError\u001b[0m: "
     ]
    }
   ],
   "source": [
    "import random as r\n",
    "import pandas as pd\n",
    "import math\n",
    "\n",
    "r.seed(42)\n",
    "input_ranges = ['low', 'mid', 'high']\n",
    "range_divisors = [(10000, 1/0.15), (1/0.4, 1/0.6), (1/0.85, 1)]\n",
    "field_sizes = [10,100,1000,10000]\n",
    "data = []\n",
    "column_names = ['field_size', 'tokens_att', 'tokens_def', 'range_att', 'range_def']\n",
    "\n",
    "for field_size in field_sizes:\n",
    "    for att_range in range(len(input_ranges)):\n",
    "        for def_range in range(att_range, len(input_ranges)):\n",
    "            for num_inputs in range(100):\n",
    "                min_att = math.ceil(field_size/range_divisors[att_range][0])\n",
    "                min_att = min(field_size - 2, min_att)\n",
    "                max_att = math.floor(field_size/range_divisors[att_range][1])\n",
    "                max_att = max(min_att+1, max_att)\n",
    "                max_att = min(max_att, field_size-1)\n",
    "                assert(min_att < max_att)\n",
    "                tokens_att = r.randrange(min_att, max_att)\n",
    "                min_def = math.ceil(field_size/range_divisors[def_range][0])\n",
    "                min_def = max(tokens_att+1, min_def)\n",
    "                max_def = math.floor(field_size/range_divisors[att_range][1])\n",
    "                max_def = max(min_def+1, max_def)\n",
    "                tokens_def = r.randrange(min_def, max_def)\n",
    "                assert(tokens_att < tokens_def)\n",
    "                assert(tokens_def < field_size)\n",
    "                data.append((field_size, tokens_att, tokens_def, input_ranges[att_range], input_ranges[def_range]))\n",
    "\n",
    "epsilon_histories\n",
    "\n"
   ]
  }
 ],
 "metadata": {
  "kernelspec": {
   "display_name": "scientific",
   "language": "python",
   "name": "python3"
  },
  "language_info": {
   "codemirror_mode": {
    "name": "ipython",
    "version": 3
   },
   "file_extension": ".py",
   "mimetype": "text/x-python",
   "name": "python",
   "nbconvert_exporter": "python",
   "pygments_lexer": "ipython3",
   "version": "3.11.8"
  }
 },
 "nbformat": 4,
 "nbformat_minor": 2
}
